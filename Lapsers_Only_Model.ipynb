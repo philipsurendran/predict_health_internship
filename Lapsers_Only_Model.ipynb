{
 "cells": [
  {
   "cell_type": "markdown",
   "id": "greater-candle",
   "metadata": {},
   "source": [
    "# Lapsers only model"
   ]
  },
  {
   "cell_type": "markdown",
   "id": "abandoned-dimension",
   "metadata": {},
   "source": [
    "## Set up"
   ]
  },
  {
   "cell_type": "code",
   "execution_count": 1,
   "id": "bearing-japanese",
   "metadata": {},
   "outputs": [],
   "source": [
    "##Import functions\n",
    "\n",
    "import autograd.numpy as np\n",
    "from autograd import grad \n",
    "import matplotlib.pyplot as plt\n",
    "%matplotlib inline\n",
    "import boto3\n",
    "import pandas as pd\n",
    "\n",
    "##Import sklearn models & metrics\n",
    "\n",
    "from sklearn.linear_model import LinearRegression, Ridge, Lasso, LogisticRegression,RidgeClassifierCV, LassoCV, LogisticRegressionCV, SGDClassifier\n",
    "from sklearn.model_selection import train_test_split, cross_val_score\n",
    "from sklearn.metrics import f1_score, plot_roc_curve, roc_curve, RocCurveDisplay, auc, confusion_matrix, classification_report, ConfusionMatrixDisplay, mean_squared_error\n",
    "from sklearn.naive_bayes import MultinomialNB, GaussianNB\n",
    "from sklearn.tree import DecisionTreeClassifier\n",
    "from sklearn.ensemble import RandomForestClassifier, RandomForestRegressor\n",
    "from sklearn.neighbors import KNeighborsClassifier\n",
    "from sklearn.utils import resample\n",
    "from sklearn.neural_network import MLPClassifier\n",
    "from sklearn.impute import SimpleImputer\n",
    "from sklearn.feature_selection import RFE, SelectKBest, chi2, f_classif, SelectFromModel\n",
    "from sklearn.svm import SVR, SVC    \n",
    "from sklearn.preprocessing import StandardScaler\n",
    "from sklearn.pipeline import make_pipeline"
   ]
  },
  {
   "cell_type": "code",
   "execution_count": 2,
   "id": "chemical-assumption",
   "metadata": {},
   "outputs": [
    {
     "name": "stdout",
     "output_type": "stream",
     "text": [
      "CPU times: user 7.89 s, sys: 2.1 s, total: 9.99 s\n",
      "Wall time: 1min 3s\n"
     ]
    },
    {
     "data": {
      "text/html": [
       "<div>\n",
       "<style scoped>\n",
       "    .dataframe tbody tr th:only-of-type {\n",
       "        vertical-align: middle;\n",
       "    }\n",
       "\n",
       "    .dataframe tbody tr th {\n",
       "        vertical-align: top;\n",
       "    }\n",
       "\n",
       "    .dataframe thead th {\n",
       "        text-align: right;\n",
       "    }\n",
       "</style>\n",
       "<table border=\"1\" class=\"dataframe\">\n",
       "  <thead>\n",
       "    <tr style=\"text-align: right;\">\n",
       "      <th></th>\n",
       "      <th>Contract</th>\n",
       "      <th>Sales.Channel.Nm</th>\n",
       "      <th>N2NCY</th>\n",
       "      <th>C210MYS</th>\n",
       "      <th>C210MAH</th>\n",
       "      <th>C210PWH</th>\n",
       "      <th>C210PHI</th>\n",
       "      <th>C210PBL</th>\n",
       "      <th>C210HMI</th>\n",
       "      <th>C210CIP</th>\n",
       "      <th>...</th>\n",
       "      <th>Count.of.Calls</th>\n",
       "      <th>Voluntary.Disenrollment</th>\n",
       "      <th>elapsedMonths</th>\n",
       "      <th>Birth.Dt_age</th>\n",
       "      <th>BDOC_months_ago</th>\n",
       "      <th>FSALDATE_months_ago</th>\n",
       "      <th>BLSTORDR_months_ago</th>\n",
       "      <th>BLONORDR_months_ago</th>\n",
       "      <th>BLOFORDR_months_ago</th>\n",
       "      <th>RORDERDT_months_ago</th>\n",
       "    </tr>\n",
       "  </thead>\n",
       "  <tbody>\n",
       "    <tr>\n",
       "      <th>0</th>\n",
       "      <td>H4835</td>\n",
       "      <td>HEALTHSPIRE</td>\n",
       "      <td>A</td>\n",
       "      <td>4_</td>\n",
       "      <td>49.0</td>\n",
       "      <td>81.0</td>\n",
       "      <td>18.0</td>\n",
       "      <td>2.0</td>\n",
       "      <td>82.0</td>\n",
       "      <td>72.0</td>\n",
       "      <td>...</td>\n",
       "      <td>NaN</td>\n",
       "      <td>NaN</td>\n",
       "      <td>18.0</td>\n",
       "      <td>78.0</td>\n",
       "      <td>NaN</td>\n",
       "      <td>226.0</td>\n",
       "      <td>28.0</td>\n",
       "      <td>NaN</td>\n",
       "      <td>28.0</td>\n",
       "      <td>NaN</td>\n",
       "    </tr>\n",
       "    <tr>\n",
       "      <th>1</th>\n",
       "      <td>H4835</td>\n",
       "      <td>NDP</td>\n",
       "      <td>A</td>\n",
       "      <td>5_</td>\n",
       "      <td>53.0</td>\n",
       "      <td>83.0</td>\n",
       "      <td>15.0</td>\n",
       "      <td>3.0</td>\n",
       "      <td>104.0</td>\n",
       "      <td>86.0</td>\n",
       "      <td>...</td>\n",
       "      <td>NaN</td>\n",
       "      <td>NaN</td>\n",
       "      <td>18.0</td>\n",
       "      <td>77.0</td>\n",
       "      <td>NaN</td>\n",
       "      <td>109.0</td>\n",
       "      <td>6.0</td>\n",
       "      <td>NaN</td>\n",
       "      <td>6.0</td>\n",
       "      <td>NaN</td>\n",
       "    </tr>\n",
       "    <tr>\n",
       "      <th>2</th>\n",
       "      <td>H4835</td>\n",
       "      <td>NDP</td>\n",
       "      <td>A</td>\n",
       "      <td>5_</td>\n",
       "      <td>68.0</td>\n",
       "      <td>86.0</td>\n",
       "      <td>19.0</td>\n",
       "      <td>1.0</td>\n",
       "      <td>75.0</td>\n",
       "      <td>66.0</td>\n",
       "      <td>...</td>\n",
       "      <td>NaN</td>\n",
       "      <td>NaN</td>\n",
       "      <td>18.0</td>\n",
       "      <td>71.0</td>\n",
       "      <td>NaN</td>\n",
       "      <td>42.0</td>\n",
       "      <td>NaN</td>\n",
       "      <td>NaN</td>\n",
       "      <td>NaN</td>\n",
       "      <td>NaN</td>\n",
       "    </tr>\n",
       "    <tr>\n",
       "      <th>3</th>\n",
       "      <td>H4835</td>\n",
       "      <td>NDP</td>\n",
       "      <td>A</td>\n",
       "      <td>3_</td>\n",
       "      <td>50.0</td>\n",
       "      <td>58.0</td>\n",
       "      <td>59.0</td>\n",
       "      <td>7.0</td>\n",
       "      <td>43.0</td>\n",
       "      <td>23.0</td>\n",
       "      <td>...</td>\n",
       "      <td>NaN</td>\n",
       "      <td>NaN</td>\n",
       "      <td>18.0</td>\n",
       "      <td>75.0</td>\n",
       "      <td>110.0</td>\n",
       "      <td>NaN</td>\n",
       "      <td>40.0</td>\n",
       "      <td>NaN</td>\n",
       "      <td>40.0</td>\n",
       "      <td>NaN</td>\n",
       "    </tr>\n",
       "    <tr>\n",
       "      <th>4</th>\n",
       "      <td>H4835</td>\n",
       "      <td>NDP</td>\n",
       "      <td>A</td>\n",
       "      <td>4_</td>\n",
       "      <td>48.0</td>\n",
       "      <td>81.0</td>\n",
       "      <td>19.0</td>\n",
       "      <td>3.0</td>\n",
       "      <td>96.0</td>\n",
       "      <td>82.0</td>\n",
       "      <td>...</td>\n",
       "      <td>NaN</td>\n",
       "      <td>NaN</td>\n",
       "      <td>0.0</td>\n",
       "      <td>64.0</td>\n",
       "      <td>NaN</td>\n",
       "      <td>22.0</td>\n",
       "      <td>NaN</td>\n",
       "      <td>NaN</td>\n",
       "      <td>NaN</td>\n",
       "      <td>NaN</td>\n",
       "    </tr>\n",
       "  </tbody>\n",
       "</table>\n",
       "<p>5 rows × 691 columns</p>\n",
       "</div>"
      ],
      "text/plain": [
       "  Contract Sales.Channel.Nm N2NCY C210MYS  C210MAH  C210PWH  C210PHI  C210PBL  \\\n",
       "0    H4835      HEALTHSPIRE     A      4_     49.0     81.0     18.0      2.0   \n",
       "1    H4835              NDP     A      5_     53.0     83.0     15.0      3.0   \n",
       "2    H4835              NDP     A      5_     68.0     86.0     19.0      1.0   \n",
       "3    H4835              NDP     A      3_     50.0     58.0     59.0      7.0   \n",
       "4    H4835              NDP     A      4_     48.0     81.0     19.0      3.0   \n",
       "\n",
       "   C210HMI  C210CIP  ...  Count.of.Calls  Voluntary.Disenrollment  \\\n",
       "0     82.0     72.0  ...             NaN                      NaN   \n",
       "1    104.0     86.0  ...             NaN                      NaN   \n",
       "2     75.0     66.0  ...             NaN                      NaN   \n",
       "3     43.0     23.0  ...             NaN                      NaN   \n",
       "4     96.0     82.0  ...             NaN                      NaN   \n",
       "\n",
       "   elapsedMonths  Birth.Dt_age  BDOC_months_ago  FSALDATE_months_ago  \\\n",
       "0           18.0          78.0              NaN                226.0   \n",
       "1           18.0          77.0              NaN                109.0   \n",
       "2           18.0          71.0              NaN                 42.0   \n",
       "3           18.0          75.0            110.0                  NaN   \n",
       "4            0.0          64.0              NaN                 22.0   \n",
       "\n",
       "   BLSTORDR_months_ago  BLONORDR_months_ago  BLOFORDR_months_ago  \\\n",
       "0                 28.0                  NaN                 28.0   \n",
       "1                  6.0                  NaN                  6.0   \n",
       "2                  NaN                  NaN                  NaN   \n",
       "3                 40.0                  NaN                 40.0   \n",
       "4                  NaN                  NaN                  NaN   \n",
       "\n",
       "   RORDERDT_months_ago  \n",
       "0                  NaN  \n",
       "1                  NaN  \n",
       "2                  NaN  \n",
       "3                  NaN  \n",
       "4                  NaN  \n",
       "\n",
       "[5 rows x 691 columns]"
      ]
     },
     "execution_count": 2,
     "metadata": {},
     "output_type": "execute_result"
    }
   ],
   "source": [
    "%%time\n",
    "#Load data\n",
    "\n",
    "client = boto3.client(\n",
    "    's3',\n",
    "    aws_access_key_id = '',\n",
    "    aws_secret_access_key = '',\n",
    "    region_name = 'us-east-2'\n",
    ")\n",
    "\n",
    "obj = client.get_object(\n",
    "    Bucket = 'predicthealth-aetna',\n",
    "    Key = 'merged_clean_08-07.csv'\n",
    ")\n",
    "\n",
    "df1 = pd.read_csv(obj['Body'], low_memory=False)\n",
    "df1.head()"
   ]
  },
  {
   "cell_type": "code",
   "execution_count": 3,
   "id": "polyphonic-northeast",
   "metadata": {},
   "outputs": [],
   "source": [
    "## Data cleaning\n",
    "\n",
    "df = df1.copy(deep=False)\n",
    "df = df.loc[df['Lapsed']==1]\n",
    "var_details = pd.read_csv('var_details.csv')\n",
    "vars_cat = var_details.loc[(var_details.VarType==\"categorical\") & (var_details.Drop==\"No\")]\n",
    "vars_cat = vars_cat['Variable'].dropna()\n",
    "df = df.drop(['RMUSIC', 'RPHOTO', 'RVIDDVD'], axis = 1)\n",
    "df_cols = df.columns\n",
    "vars_cat = [x for x in vars_cat if x in df_cols]\n",
    "df = pd.get_dummies(df, columns = vars_cat)\n",
    "df['Voluntary.Disenrollment'] = np.where((df['Voluntary.Disenrollment'] != \"No \"),1, 0)\n",
    "df = df.loc[((df['Voluntary.Disenrollment'] == 0) & (df.elapsedMonths>12)) | (df['Voluntary.Disenrollment']==1)]\n"
   ]
  },
  {
   "cell_type": "code",
   "execution_count": 4,
   "id": "smooth-marker",
   "metadata": {
    "scrolled": false
   },
   "outputs": [
    {
     "name": "stdout",
     "output_type": "stream",
     "text": [
      "<class 'pandas.core.frame.DataFrame'>\n",
      "RangeIndex: 35493 entries, 0 to 35492\n",
      "Columns: 1719 entries, index to EarlyLapser\n",
      "dtypes: float64(195), int64(3), uint8(1521)\n",
      "memory usage: 105.1 MB\n",
      "None\n",
      "0.0    27194\n",
      "1.0     8299\n",
      "Name: EarlyLapser, dtype: int64\n",
      "1    35493\n",
      "Name: Lapsed, dtype: int64\n",
      "1    31184\n",
      "0     4309\n",
      "Name: Voluntary.Disenrollment, dtype: int64\n"
     ]
    },
    {
     "data": {
      "image/png": "[encoded data removed]",
      "text/plain": [
       "<Figure size 432x288 with 1 Axes>"
      ]
     },
     "metadata": {
      "needs_background": "light"
     },
     "output_type": "display_data"
    },
    {
     "data": {
      "image/png": "[encoded data removed]",
      "text/plain": [
       "<Figure size 432x288 with 1 Axes>"
      ]
     },
     "metadata": {
      "needs_background": "light"
     },
     "output_type": "display_data"
    }
   ],
   "source": [
    "## Create & summarize 3 month lapse model\n",
    "\n",
    "df_3month = df.copy(deep=False)\n",
    "df_3month.loc[df_3month.elapsedMonths<=3, ('EarlyLapser')] = 1\n",
    "df_3month.loc[df_3month.elapsedMonths>3, ('EarlyLapser')] = 0\n",
    "df_3month = df_3month.reset_index()\n",
    "\n",
    "print(df_3month.info())\n",
    "print(df_3month['EarlyLapser'].value_counts())\n",
    "print(df_3month['Lapsed'].value_counts())\n",
    "print(df_3month['Voluntary.Disenrollment'].value_counts())\n",
    "\n",
    "plt.scatter(df_3month['elapsedMonths'], df_3month['Lapsed'])\n",
    "plt.vlines(x=3, ymin=0, ymax=1)\n",
    "plt.show()\n",
    "\n",
    "plt.scatter(df_3month['elapsedMonths'], df_3month['Voluntary.Disenrollment'])\n",
    "plt.vlines(x=12, ymin=0, ymax=1)\n",
    "plt.show()"
   ]
  },
  {
   "cell_type": "code",
   "execution_count": 5,
   "id": "large-nurse",
   "metadata": {
    "scrolled": false
   },
   "outputs": [
    {
     "name": "stdout",
     "output_type": "stream",
     "text": [
      "0.0    24804\n",
      "1.0    10689\n",
      "Name: EarlyLapser, dtype: int64\n",
      "1    35493\n",
      "Name: Lapsed, dtype: int64\n",
      "1    31184\n",
      "0     4309\n",
      "Name: Voluntary.Disenrollment, dtype: int64\n"
     ]
    },
    {
     "data": {
      "image/png": "[encoded data removed]",
      "text/plain": [
       "<Figure size 432x288 with 1 Axes>"
      ]
     },
     "metadata": {
      "needs_background": "light"
     },
     "output_type": "display_data"
    },
    {
     "data": {
      "image/png": "[encoded data removed]",
      "text/plain": [
       "<Figure size 432x288 with 1 Axes>"
      ]
     },
     "metadata": {
      "needs_background": "light"
     },
     "output_type": "display_data"
    }
   ],
   "source": [
    "## Create & summarize 6 month lapse model\n",
    "\n",
    "df_6month = df.copy()\n",
    "df_6month.loc[df_6month.elapsedMonths<=6, ('EarlyLapser')] = 1\n",
    "df_6month.loc[df_6month.elapsedMonths>6, ('EarlyLapser')] = 0\n",
    "df_6month = df_6month.reset_index()\n",
    "\n",
    "print(df_6month['EarlyLapser'].value_counts())\n",
    "print(df_6month['Lapsed'].value_counts())\n",
    "print(df_6month['Voluntary.Disenrollment'].value_counts())\n",
    "\n",
    "plt.scatter(df_6month['elapsedMonths'], df_6month['Lapsed'])\n",
    "plt.vlines(x=6, ymin=0, ymax=1)\n",
    "plt.show()\n",
    "\n",
    "plt.scatter(df_6month['elapsedMonths'], df_6month['Voluntary.Disenrollment'])\n",
    "plt.vlines(x=12, ymin=0, ymax=1)\n",
    "plt.show()"
   ]
  },
  {
   "cell_type": "code",
   "execution_count": 6,
   "id": "european-vanilla",
   "metadata": {
    "scrolled": false
   },
   "outputs": [
    {
     "name": "stdout",
     "output_type": "stream",
     "text": [
      "1.0    24254\n",
      "0.0    11239\n",
      "Name: EarlyLapser, dtype: int64\n",
      "1    35493\n",
      "Name: Lapsed, dtype: int64\n",
      "1    31184\n",
      "0     4309\n",
      "Name: Voluntary.Disenrollment, dtype: int64\n"
     ]
    },
    {
     "data": {
      "image/png": "[encoded data removed]",
      "text/plain": [
       "<Figure size 432x288 with 1 Axes>"
      ]
     },
     "metadata": {
      "needs_background": "light"
     },
     "output_type": "display_data"
    },
    {
     "data": {
      "image/png": "[encoded data removed]",
      "text/plain": [
       "<Figure size 432x288 with 1 Axes>"
      ]
     },
     "metadata": {
      "needs_background": "light"
     },
     "output_type": "display_data"
    }
   ],
   "source": [
    "## Create & summarize 1 year lapse model\n",
    "\n",
    "df_1year = df.copy()\n",
    "df_1year.loc[df_1year.elapsedMonths<=12, ('EarlyLapser')] = 1\n",
    "df_1year.loc[df_1year.elapsedMonths>12, ('EarlyLapser')] = 0\n",
    "df_1year = df_1year.reset_index()\n",
    "\n",
    "\n",
    "print(df_1year['EarlyLapser'].value_counts())\n",
    "print(df_1year['Lapsed'].value_counts())\n",
    "print(df_1year['Voluntary.Disenrollment'].value_counts())\n",
    "\n",
    "plt.scatter(df_1year['elapsedMonths'], df_1year['Lapsed'])\n",
    "plt.vlines(x=12, ymin=0, ymax=1)\n",
    "plt.show()\n",
    "\n",
    "plt.scatter(df_1year['elapsedMonths'], df_1year['Voluntary.Disenrollment'])\n",
    "plt.vlines(x=12, ymin=0, ymax=1)\n",
    "plt.show()"
   ]
  },
  {
   "cell_type": "code",
   "execution_count": 7,
   "id": "stainless-attitude",
   "metadata": {},
   "outputs": [],
   "source": [
    "##Define functions\n",
    "\n",
    "def categorical_evaluation(y_test, y_pred):\n",
    "    \n",
    "    \n",
    "    fpr, tpr, threshold = roc_curve(y_test, y_pred, pos_label = 1)\n",
    "    roc_auc = auc(fpr, tpr)\n",
    "    print(\"AUC:\", round(roc_auc, 2))\n",
    "    print(\"ROC Curve: \")\n",
    "    display = RocCurveDisplay(fpr=fpr, tpr=tpr, roc_auc=roc_auc,estimator_name='Model')\n",
    "    display.plot()  \n",
    "    plt.show()\n",
    "    print(\"F1 Score: {}\", round(f1_score(y_test, y_pred), 4))\n",
    "    print(\"All Model Metrics: \\n\", classification_report(y_test, y_pred))\n",
    "    print(\"Model Confusion Matrix: \\n\", confusion_matrix(y_test, y_pred))\n",
    "    return None\n",
    "   \n",
    "\n",
    "def continuous_evaluation(y_test, y_pred):\n",
    "    \n",
    "    fpr, tpr, threshold = roc_curve(y_test, y_pred, pos_label = 1)\n",
    "    roc_auc = auc(fpr, tpr)\n",
    "    print(\"AUC:\", round(roc_auc, 2))\n",
    "    print(\"ROC Curve: \")\n",
    "    display = RocCurveDisplay(fpr=fpr, tpr=tpr, roc_auc=roc_auc,estimator_name='Model')\n",
    "    display.plot()  \n",
    "    plt.show()\n",
    "\n",
    "    thresh = np.linspace(0,1,1001)\n",
    "    f1_scores = []\n",
    "    for i in range(len(thresh)):\n",
    "        f1_scores.append(f1_score(y_test, classify(y_pred, thresh[i])))\n",
    "         \n",
    "    max_index = f1_scores.index(max(f1_scores))\n",
    "    thresholdOpt = thresh[max_index]   \n",
    "    print('Best Threshold: {}'.format(thresholdOpt))\n",
    "    print(\"F1 Score: \", f1_score(y_test, classify(y_pred, thresholdOpt)))        \n",
    "    print(\"All Model Metrics: \\n\", classification_report(y_test, classify(y_pred, thresholdOpt)))\n",
    "    print(\"Model Confusion Matrix: \\n\", confusion_matrix(y_test, classify(y_pred, thresholdOpt)))\n",
    "    \n",
    "    return None\n",
    "\n",
    "def classify_decision_boundary(y_test, y_pred):\n",
    "    \n",
    "    thresh = np.linspace(0,1,1001)\n",
    "    f1_scores = []\n",
    "    for i in range(len(thresh)):\n",
    "        f1_scores.append(f1_score(y_test, classify(y_pred, thresh[i])))\n",
    "         \n",
    "    max_index = f1_scores.index(max(f1_scores))\n",
    "    thresholdOpt = thresh[max_index]\n",
    "    y = classify(y_pred, thresholdOpt)\n",
    "    return y\n",
    "\n",
    "def classify(y, x):\n",
    "    conditions = [(y >= x),\n",
    "             (y < x)]\n",
    "    values = [1.0, 0.0]\n",
    "    y = np.select(conditions, values)\n",
    "    return y\n",
    "\n",
    "def upsampler(x, y):\n",
    "    \n",
    "    x= pd.DataFrame(x)\n",
    "    training = pd.concat([x, y], axis = 1)\n",
    "    EarlyLapser = training[training.EarlyLapser==1]\n",
    "    Retained = training[training.EarlyLapser==0]\n",
    "              \n",
    "    if (len(EarlyLapser[0]) < len(Retained[0])):\n",
    "        \n",
    "        EarlyLapser_upsampled = resample(EarlyLapser,\n",
    "                                replace=True, # sample with replacement\n",
    "                                n_samples=len(Retained), # match number in majority class\n",
    "                                random_state=27, stratify = EarlyLapser) # reproducible results\n",
    "        upsampled = pd.concat([EarlyLapser_upsampled, Retained])\n",
    "    else:\n",
    "        Retained_upsampled = resample(Retained,\n",
    "                                replace=True, # sample with replacement\n",
    "                                n_samples=len(EarlyLapser), # match number in majority class\n",
    "                                random_state=27, stratify = Retained) # reproducible results\n",
    "        upsampled = pd.concat([EarlyLapser, Retained_upsampled])\n",
    "        \n",
    "    y_upsampled = upsampled['EarlyLapser']\n",
    "    x_upsampled = upsampled.drop('EarlyLapser', axis=1)\n",
    "    imp_median = SimpleImputer(missing_values=np.nan, strategy='median')\n",
    "    imp_median.fit(x_upsampled)\n",
    "    x_upsampled = imp_median.transform(x_upsampled)\n",
    "    return(x_upsampled, y_upsampled)\n",
    "\n",
    "def downsampler(x, y):\n",
    "    \n",
    "    x= pd.DataFrame(x)\n",
    "    training = pd.concat([x, y], axis = 1)    \n",
    "    EarlyLapser = training[training.EarlyLapser==1]\n",
    "    Retained = training[training.EarlyLapser==0]\n",
    "    \n",
    "    if (len(EarlyLapser[0]) < len(Retained[0])):\n",
    "        Retained_downsampled = resample(Retained,\n",
    "                                replace=False, # sample without replacement\n",
    "                                n_samples=len(EarlyLapser), # match number in majority class\n",
    "                                random_state=27, stratify = Retained) # reproducible results\n",
    "        downsampled = pd.concat([EarlyLapser, Retained_downsampled])\n",
    "    else:\n",
    "        EarlyLapser_downsampled = resample(EarlyLapser,\n",
    "                                replace=False, # sample with replacement\n",
    "                                n_samples=len(Retained), # match number in majority class\n",
    "                                random_state=27, stratify = EarlyLapser) # reproducible results\n",
    "\n",
    "        downsampled = pd.concat([EarlyLapser_downsampled, Retained])\n",
    "        \n",
    "    y_downsampled = downsampled['EarlyLapser']\n",
    "    x_downsampled = downsampled.drop('EarlyLapser', axis=1)\n",
    "    imp_median = SimpleImputer(missing_values=np.nan, strategy='median')\n",
    "    imp_median.fit(x_downsampled)\n",
    "    x_downsampled = imp_median.transform(x_downsampled)\n",
    "    return(x_downsampled, y_downsampled)\n",
    "\n"
   ]
  },
  {
   "cell_type": "code",
   "execution_count": 8,
   "id": "stylish-album",
   "metadata": {},
   "outputs": [
    {
     "name": "stdout",
     "output_type": "stream",
     "text": [
      "CPU times: user 29.5 s, sys: 8.12 s, total: 37.7 s\n",
      "Wall time: 41.3 s\n"
     ]
    }
   ],
   "source": [
    "%%time\n",
    "##Create train test split\n",
    "\n",
    "#3 month\n",
    "y_3month = df_3month['EarlyLapser']\n",
    "x_3month = df_3month.drop(['EarlyLapser', 'elapsedMonths', 'Lapsed', 'Voluntary.Disenrollment'], axis = 1)\n",
    "\n",
    "imp_median = SimpleImputer(missing_values=np.nan, strategy='median')\n",
    "imp_median.fit(x_3month)\n",
    "x_3month = imp_median.transform(x_3month)\n",
    "\n",
    "x_train_3month, x_test_3month, y_train_3month, y_test_3month = train_test_split(x_3month, y_3month, test_size=0.2, random_state=0)\n",
    "\n",
    "#6 month\n",
    "\n",
    "y_6month = df_6month['EarlyLapser']\n",
    "x_6month = df_6month.drop(['EarlyLapser', 'elapsedMonths', 'Lapsed', 'Voluntary.Disenrollment'], axis = 1)\n",
    "\n",
    "imp_median = SimpleImputer(missing_values=np.nan, strategy='median')\n",
    "imp_median.fit(x_6month)\n",
    "x_6month = imp_median.transform(x_6month)\n",
    "\n",
    "x_train_6month, x_test_6month, y_train_6month, y_test_6month = train_test_split(x_6month, y_6month, test_size=0.2, random_state=0)\n",
    "\n",
    "y_1year = df_1year['EarlyLapser']\n",
    "x_1year = df_1year.drop(['EarlyLapser', 'elapsedMonths', 'Lapsed', 'Voluntary.Disenrollment'], axis = 1)\n",
    "\n",
    "imp_median = SimpleImputer(missing_values=np.nan, strategy='median')\n",
    "imp_median.fit(x_1year)\n",
    "x_1year = imp_median.transform(x_1year)\n",
    "\n",
    "x_train_1year, x_test_1year, y_train_1year, y_test_1year = train_test_split(x_1year, y_1year, test_size=0.2, random_state=0)"
   ]
  },
  {
   "cell_type": "code",
   "execution_count": 9,
   "id": "lightweight-brass",
   "metadata": {},
   "outputs": [
    {
     "name": "stdout",
     "output_type": "stream",
     "text": [
      "CPU times: user 3min 18s, sys: 32.9 s, total: 3min 51s\n",
      "Wall time: 4min 3s\n"
     ]
    }
   ],
   "source": [
    "%%time\n",
    "## Create upsamples and downsamples\n",
    "x_3month_upsampled, y_3month_upsampled = upsampler(x_3month, y_3month)\n",
    "x_3month_downsampled, y_3month_downsampled = downsampler(x_3month, y_3month)\n",
    "x_train_3month_upsampled, x_test_3month_upsampled, y_train_3month_upsampled, y_test_3month_upsampled = train_test_split(x_3month_upsampled, y_3month_upsampled, test_size=0.2, random_state=0)\n",
    "x_train_3month_downsampled, x_test_3month_downsampled, y_train_3month_downsampled, y_test_3month_downsampled = train_test_split(x_3month_downsampled, y_3month_downsampled, test_size=0.2, random_state=0)\n",
    "\n",
    "\n",
    "x_6month_upsampled, y_6month_upsampled = upsampler(x_6month, y_6month)\n",
    "x_6month_downsampled, y_6month_downsampled = downsampler(x_6month, y_6month)\n",
    "x_train_6month_upsampled, x_test_6month_upsampled, y_train_6month_upsampled, y_test_6month_upsampled = train_test_split(x_6month_upsampled, y_6month_upsampled, test_size=0.2, random_state=0)\n",
    "x_train_6month_downsampled, x_test_6month_downsampled, y_train_6month_downsampled, y_test_6month_downsampled = train_test_split(x_6month_downsampled, y_6month_downsampled, test_size=0.2, random_state=0)\n",
    "\n",
    "\n",
    "x_1year_upsampled, y_1year_upsampled = upsampler(x_1year, y_1year)\n",
    "x_1year_downsampled, y_1year_downsampled = downsampler(x_1year, y_1year)\n",
    "x_train_1year_upsampled, x_test_1year_upsampled, y_train_1year_upsampled, y_test_1year_upsampled = train_test_split(x_1year_upsampled, y_1year_upsampled, test_size=0.2, random_state=0)\n",
    "x_train_1year_downsampled, x_test_1year_downsampled, y_train_1year_downsampled, y_test_1year_downsampled = train_test_split(x_1year_downsampled, y_1year_downsampled, test_size=0.2, random_state=0)\n"
   ]
  },
  {
   "cell_type": "code",
   "execution_count": 10,
   "id": "average-investor",
   "metadata": {},
   "outputs": [
    {
     "name": "stdout",
     "output_type": "stream",
     "text": [
      "CPU times: user 5.54 s, sys: 1.9 s, total: 7.44 s\n",
      "Wall time: 7.81 s\n"
     ]
    }
   ],
   "source": [
    "%%time\n",
    "##Create validation set\n",
    "\n",
    "x_train_3month_val, x_test_3month_val, y_train_3month_val, y_test_3month_val = train_test_split(x_3month, y_3month, test_size=0.05, random_state=0)\n",
    "x_train_6month_val, x_test_6month_val, y_train_6month_val, y_test_6month_val = train_test_split(x_6month, y_6month, test_size=0.05, random_state=0)\n",
    "x_train_1year_val, x_test_1year_val, y_train_1year_val, y_test_1year_val = train_test_split(x_1year, y_1year, test_size=0.05, random_state=0)"
   ]
  },
  {
   "cell_type": "markdown",
   "id": "third-throat",
   "metadata": {},
   "source": [
    "## Logistic Regression Model"
   ]
  },
  {
   "cell_type": "markdown",
   "id": "alive-memorabilia",
   "metadata": {},
   "source": [
    "### 3 month model - regular"
   ]
  },
  {
   "cell_type": "code",
   "execution_count": 11,
   "id": "brave-column",
   "metadata": {
    "scrolled": false
   },
   "outputs": [
    {
     "name": "stdout",
     "output_type": "stream",
     "text": [
      "0.70 accuracy with a standard deviation of 0.00\n",
      "AUC: 0.74\n",
      "ROC Curve: \n"
     ]
    },
    {
     "data": {
      "image/png": "[encoded data removed]",
      "text/plain": [
       "<Figure size 432x288 with 1 Axes>"
      ]
     },
     "metadata": {
      "needs_background": "light"
     },
     "output_type": "display_data"
    },
    {
     "name": "stdout",
     "output_type": "stream",
     "text": [
      "F1 Score: {} 0.5718\n",
      "All Model Metrics: \n",
      "               precision    recall  f1-score   support\n",
      "\n",
      "         0.0       0.90      0.74      0.81      5422\n",
      "         1.0       0.47      0.73      0.57      1677\n",
      "\n",
      "    accuracy                           0.74      7099\n",
      "   macro avg       0.68      0.74      0.69      7099\n",
      "weighted avg       0.80      0.74      0.76      7099\n",
      "\n",
      "Model Confusion Matrix: \n",
      " [[4034 1388]\n",
      " [ 450 1227]]\n",
      "CPU times: user 1min 11s, sys: 2.16 s, total: 1min 13s\n",
      "Wall time: 1min 15s\n"
     ]
    }
   ],
   "source": [
    "%%time\n",
    "#Logistic Regression Model w/ stochastic gradient descent\n",
    "\n",
    "clf_3month = make_pipeline(StandardScaler(), SGDClassifier(loss = 'log', warm_start = True, learning_rate = 'adaptive', eta0 = 0.1, max_iter = 10000, penalty = 'elasticnet', class_weight = 'balanced')).fit(x_train_3month, y_train_3month)\n",
    "y_pred_3month_log = clf_3month.predict(np.array(x_test_3month))\n",
    "\n",
    "scores = cross_val_score(clf_3month, x_test_3month_val, y_test_3month_val, cv=5)\n",
    "print(\"%0.2f accuracy with a standard deviation of %0.2f\" % (round(scores.mean(),2), round(scores.std(), 2)))\n",
    "\n",
    "categorical_evaluation(y_test_3month, y_pred_3month_log)\n"
   ]
  },
  {
   "cell_type": "markdown",
   "id": "sophisticated-parliament",
   "metadata": {},
   "source": [
    "### 3 month model - upsampled"
   ]
  },
  {
   "cell_type": "code",
   "execution_count": 12,
   "id": "fossil-complaint",
   "metadata": {},
   "outputs": [
    {
     "name": "stdout",
     "output_type": "stream",
     "text": [
      "0.69 accuracy with a standard deviation of 0.03\n",
      "AUC: 0.77\n",
      "ROC Curve: \n"
     ]
    },
    {
     "data": {
      "image/png": "[encoded data removed]",
      "text/plain": [
       "<Figure size 432x288 with 1 Axes>"
      ]
     },
     "metadata": {
      "needs_background": "light"
     },
     "output_type": "display_data"
    },
    {
     "name": "stdout",
     "output_type": "stream",
     "text": [
      "F1 Score: {} 0.6132\n",
      "All Model Metrics: \n",
      "               precision    recall  f1-score   support\n",
      "\n",
      "         0.0       0.92      0.76      0.83      5422\n",
      "         1.0       0.50      0.79      0.61      1677\n",
      "\n",
      "    accuracy                           0.77      7099\n",
      "   macro avg       0.71      0.77      0.72      7099\n",
      "weighted avg       0.82      0.77      0.78      7099\n",
      "\n",
      "Model Confusion Matrix: \n",
      " [[4109 1313]\n",
      " [ 355 1322]]\n",
      "CPU times: user 1min 16s, sys: 2.2 s, total: 1min 18s\n",
      "Wall time: 1min 18s\n"
     ]
    }
   ],
   "source": [
    "%%time\n",
    "clf_3month_upsampled = make_pipeline(StandardScaler(), SGDClassifier(loss = 'log', warm_start = True, learning_rate = 'adaptive', eta0 = 0.1, max_iter = 10000, penalty = 'elasticnet', class_weight = 'balanced')).fit(x_train_3month_upsampled, y_train_3month_upsampled)\n",
    "y_pred_3month_log_upsampled = clf_3month_upsampled.predict(np.array(x_test_3month))\n",
    "\n",
    "scores = cross_val_score(clf_3month_upsampled, x_test_3month_val, y_test_3month_val, cv=5)\n",
    "print(\"%0.2f accuracy with a standard deviation of %0.2f\" % (round(scores.mean(),2), round(scores.std(), 2)))\n",
    "\n",
    "categorical_evaluation(y_test_3month, y_pred_3month_log_upsampled)"
   ]
  },
  {
   "cell_type": "markdown",
   "id": "embedded-exhibit",
   "metadata": {},
   "source": [
    "### 6 month model - regular"
   ]
  },
  {
   "cell_type": "code",
   "execution_count": 13,
   "id": "magnetic-uganda",
   "metadata": {
    "scrolled": false
   },
   "outputs": [
    {
     "name": "stdout",
     "output_type": "stream",
     "text": [
      "0.66 accuracy with a standard deviation of 0.01\n",
      "AUC: 0.74\n",
      "ROC Curve: \n"
     ]
    },
    {
     "data": {
      "image/png": "[encoded data removed]",
      "text/plain": [
       "<Figure size 432x288 with 1 Axes>"
      ]
     },
     "metadata": {
      "needs_background": "light"
     },
     "output_type": "display_data"
    },
    {
     "name": "stdout",
     "output_type": "stream",
     "text": [
      "F1 Score: {} 0.6336\n",
      "All Model Metrics: \n",
      "               precision    recall  f1-score   support\n",
      "\n",
      "         0.0       0.87      0.75      0.80      4971\n",
      "         1.0       0.56      0.73      0.63      2128\n",
      "\n",
      "    accuracy                           0.75      7099\n",
      "   macro avg       0.71      0.74      0.72      7099\n",
      "weighted avg       0.78      0.75      0.75      7099\n",
      "\n",
      "Model Confusion Matrix: \n",
      " [[3728 1243]\n",
      " [ 565 1563]]\n",
      "CPU times: user 1min 11s, sys: 1.78 s, total: 1min 13s\n",
      "Wall time: 1min 12s\n"
     ]
    }
   ],
   "source": [
    "%%time\n",
    "##Logistic Regression Model w/ stochastic gradient descent\n",
    "\n",
    "clf_6month = make_pipeline(StandardScaler(), SGDClassifier(loss = 'log', warm_start = True, learning_rate = 'adaptive', eta0 = 0.1, max_iter = 10000, penalty = 'elasticnet', class_weight = 'balanced')).fit(x_train_6month, y_train_6month)\n",
    "y_pred_6month_log = clf_6month.predict(np.array(x_test_6month))\n",
    "\n",
    "scores = cross_val_score(clf_6month, x_test_6month_val, y_test_6month_val, cv=5)\n",
    "print(\"%0.2f accuracy with a standard deviation of %0.2f\" % (round(scores.mean(),2), round(scores.std(), 2)))\n",
    "\n",
    "categorical_evaluation(y_test_6month, y_pred_6month_log)\n"
   ]
  },
  {
   "cell_type": "markdown",
   "id": "manufactured-resource",
   "metadata": {},
   "source": [
    "### 6 month model - upsampled"
   ]
  },
  {
   "cell_type": "code",
   "execution_count": 14,
   "id": "significant-induction",
   "metadata": {},
   "outputs": [
    {
     "name": "stdout",
     "output_type": "stream",
     "text": [
      "0.66 accuracy with a standard deviation of 0.01\n",
      "AUC: 0.77\n",
      "ROC Curve: \n"
     ]
    },
    {
     "data": {
      "image/png": "[encoded data removed]",
      "text/plain": [
       "<Figure size 432x288 with 1 Axes>"
      ]
     },
     "metadata": {
      "needs_background": "light"
     },
     "output_type": "display_data"
    },
    {
     "name": "stdout",
     "output_type": "stream",
     "text": [
      "F1 Score: {} 0.6648\n",
      "All Model Metrics: \n",
      "               precision    recall  f1-score   support\n",
      "\n",
      "         0.0       0.89      0.76      0.82      4971\n",
      "         1.0       0.58      0.77      0.66      2128\n",
      "\n",
      "    accuracy                           0.77      7099\n",
      "   macro avg       0.74      0.77      0.74      7099\n",
      "weighted avg       0.80      0.77      0.77      7099\n",
      "\n",
      "Model Confusion Matrix: \n",
      " [[3801 1170]\n",
      " [ 486 1642]]\n"
     ]
    }
   ],
   "source": [
    "clf_6month_upsampled = make_pipeline(StandardScaler(), SGDClassifier(loss = 'log', warm_start = True, learning_rate = 'adaptive', eta0 = 0.1, max_iter = 10000, penalty = 'elasticnet', class_weight = 'balanced')).fit(x_train_6month_upsampled, y_train_6month_upsampled)\n",
    "y_pred_6month_log_upsampled = clf_6month_upsampled.predict(np.array(x_test_6month))\n",
    "\n",
    "scores = cross_val_score(clf_6month_upsampled, x_test_6month_val, y_test_6month_val, cv=5)\n",
    "print(\"%0.2f accuracy with a standard deviation of %0.2f\" % (round(scores.mean(),2), round(scores.std(), 2)))\n",
    "\n",
    "categorical_evaluation(y_test_6month, y_pred_6month_log_upsampled)"
   ]
  },
  {
   "cell_type": "markdown",
   "id": "joint-inclusion",
   "metadata": {},
   "source": [
    "### 1 year model - regular"
   ]
  },
  {
   "cell_type": "code",
   "execution_count": 15,
   "id": "greenhouse-brake",
   "metadata": {
    "scrolled": false
   },
   "outputs": [
    {
     "name": "stdout",
     "output_type": "stream",
     "text": [
      "0.59 accuracy with a standard deviation of 0.01\n",
      "AUC: 0.67\n",
      "ROC Curve: \n"
     ]
    },
    {
     "data": {
      "image/png": "[encoded data removed]",
      "text/plain": [
       "<Figure size 432x288 with 1 Axes>"
      ]
     },
     "metadata": {
      "needs_background": "light"
     },
     "output_type": "display_data"
    },
    {
     "name": "stdout",
     "output_type": "stream",
     "text": [
      "F1 Score: {} 0.7326\n",
      "All Model Metrics: \n",
      "               precision    recall  f1-score   support\n",
      "\n",
      "         0.0       0.48      0.68      0.56      2207\n",
      "         1.0       0.82      0.66      0.73      4892\n",
      "\n",
      "    accuracy                           0.67      7099\n",
      "   macro avg       0.65      0.67      0.65      7099\n",
      "weighted avg       0.71      0.67      0.68      7099\n",
      "\n",
      "Model Confusion Matrix: \n",
      " [[1509  698]\n",
      " [1661 3231]]\n",
      "CPU times: user 1min 3s, sys: 1.74 s, total: 1min 5s\n",
      "Wall time: 1min 5s\n"
     ]
    }
   ],
   "source": [
    "%%time\n",
    "##Logistic Regression Model w/ stochastic gradient descent\n",
    "\n",
    "clf_1year = make_pipeline(StandardScaler(), SGDClassifier(loss = 'log', warm_start = True, learning_rate = 'adaptive', eta0 = 0.1, max_iter = 10000, penalty = 'elasticnet', class_weight = 'balanced')).fit(x_train_1year, y_train_1year)\n",
    "y_pred_1year_log = clf_1year.predict(np.array(x_test_1year))\n",
    "\n",
    "\n",
    "scores = cross_val_score(clf_1year, x_test_1year_val, y_test_1year_val, cv=5)\n",
    "print(\"%0.2f accuracy with a standard deviation of %0.2f\" % (round(scores.mean(),2), round(scores.std(), 2)))\n",
    "\n",
    "categorical_evaluation(y_test_1year, y_pred_1year_log)"
   ]
  },
  {
   "cell_type": "markdown",
   "id": "remarkable-transmission",
   "metadata": {},
   "source": [
    "### 1 year model - upsampled"
   ]
  },
  {
   "cell_type": "code",
   "execution_count": 16,
   "id": "timely-custody",
   "metadata": {},
   "outputs": [
    {
     "name": "stdout",
     "output_type": "stream",
     "text": [
      "0.60 accuracy with a standard deviation of 0.01\n",
      "AUC: 0.7\n",
      "ROC Curve: \n"
     ]
    },
    {
     "data": {
      "image/png": "[encoded data removed]",
      "text/plain": [
       "<Figure size 432x288 with 1 Axes>"
      ]
     },
     "metadata": {
      "needs_background": "light"
     },
     "output_type": "display_data"
    },
    {
     "name": "stdout",
     "output_type": "stream",
     "text": [
      "F1 Score: {} 0.7571\n",
      "All Model Metrics: \n",
      "               precision    recall  f1-score   support\n",
      "\n",
      "         0.0       0.51      0.72      0.60      2207\n",
      "         1.0       0.84      0.69      0.76      4892\n",
      "\n",
      "    accuracy                           0.70      7099\n",
      "   macro avg       0.68      0.70      0.68      7099\n",
      "weighted avg       0.74      0.70      0.71      7099\n",
      "\n",
      "Model Confusion Matrix: \n",
      " [[1586  621]\n",
      " [1534 3358]]\n"
     ]
    }
   ],
   "source": [
    "clf_1year_upsampled = make_pipeline(StandardScaler(), SGDClassifier(loss = 'log', warm_start = True, learning_rate = 'adaptive', eta0 = 0.1, max_iter = 10000, penalty = 'elasticnet', class_weight = 'balanced')).fit(x_train_1year_upsampled, y_train_1year_upsampled)\n",
    "y_pred_1year_log_upsampled = clf_1year_upsampled.predict(np.array(x_test_1year))\n",
    "\n",
    "scores = cross_val_score(clf_1year_upsampled, x_test_1year_val, y_test_1year_val, cv=5)\n",
    "print(\"%0.2f accuracy with a standard deviation of %0.2f\" % (round(scores.mean(),2), round(scores.std(), 2)))\n",
    "\n",
    "categorical_evaluation(y_test_1year, y_pred_1year_log_upsampled)"
   ]
  },
  {
   "cell_type": "markdown",
   "id": "horizontal-grain",
   "metadata": {},
   "source": [
    "## Linear Regression (Lasso)"
   ]
  },
  {
   "cell_type": "markdown",
   "id": "covered-charlotte",
   "metadata": {},
   "source": [
    "### 3 month model - upsampled"
   ]
  },
  {
   "cell_type": "code",
   "execution_count": 17,
   "id": "ignored-messenger",
   "metadata": {
    "scrolled": false
   },
   "outputs": [
    {
     "name": "stdout",
     "output_type": "stream",
     "text": [
      "AUC: 0.81\n",
      "ROC Curve: \n"
     ]
    },
    {
     "data": {
      "image/png": "[encoded data removed]",
      "text/plain": [
       "<Figure size 432x288 with 1 Axes>"
      ]
     },
     "metadata": {
      "needs_background": "light"
     },
     "output_type": "display_data"
    },
    {
     "name": "stdout",
     "output_type": "stream",
     "text": [
      "Best Threshold: 0.35000000000000003\n",
      "F1 Score:  0.5689500448698772\n",
      "All Model Metrics: \n",
      "               precision    recall  f1-score   support\n",
      "\n",
      "         0.0       0.87      0.87      0.87      5422\n",
      "         1.0       0.57      0.57      0.57      1677\n",
      "\n",
      "    accuracy                           0.80      7099\n",
      "   macro avg       0.72      0.72      0.72      7099\n",
      "weighted avg       0.80      0.80      0.80      7099\n",
      "\n",
      "Model Confusion Matrix: \n",
      " [[4707  715]\n",
      " [ 726  951]]\n",
      "CPU times: user 3min 14s, sys: 10.4 s, total: 3min 25s\n",
      "Wall time: 3min 33s\n"
     ]
    }
   ],
   "source": [
    "%%time\n",
    "##Linear Regression Model w/ Lasso Regularizer\n",
    "\n",
    "model = make_pipeline(StandardScaler(), LassoCV(max_iter = 10000, normalize = True, selection = \"random\")).fit(x_train_3month, y_train_3month)\n",
    "y_pred_3month_lasso = model.predict(np.array(x_test_3month))\n",
    "\n",
    "continuous_evaluation(y_test_3month, y_pred_3month_lasso)\n"
   ]
  },
  {
   "cell_type": "markdown",
   "id": "impressive-briefing",
   "metadata": {},
   "source": [
    "### 3 month model - upsampled"
   ]
  },
  {
   "cell_type": "code",
   "execution_count": 18,
   "id": "liquid-canberra",
   "metadata": {
    "scrolled": false
   },
   "outputs": [
    {
     "name": "stdout",
     "output_type": "stream",
     "text": [
      "AUC: 0.84\n",
      "ROC Curve: \n"
     ]
    },
    {
     "data": {
      "image/png": "[encoded data removed]",
      "text/plain": [
       "<Figure size 432x288 with 1 Axes>"
      ]
     },
     "metadata": {
      "needs_background": "light"
     },
     "output_type": "display_data"
    },
    {
     "name": "stdout",
     "output_type": "stream",
     "text": [
      "Best Threshold: 0.584\n",
      "F1 Score:  0.6177606177606177\n",
      "All Model Metrics: \n",
      "               precision    recall  f1-score   support\n",
      "\n",
      "         0.0       0.89      0.85      0.87      5422\n",
      "         1.0       0.57      0.67      0.62      1677\n",
      "\n",
      "    accuracy                           0.80      7099\n",
      "   macro avg       0.73      0.76      0.74      7099\n",
      "weighted avg       0.82      0.80      0.81      7099\n",
      "\n",
      "Model Confusion Matrix: \n",
      " [[4593  829]\n",
      " [ 557 1120]]\n",
      "CPU times: user 2min 26s, sys: 10.9 s, total: 2min 37s\n",
      "Wall time: 1min 55s\n"
     ]
    }
   ],
   "source": [
    "%%time\n",
    "##Upsampled Linear Regression Model w/ Lasso regularizer\n",
    "\n",
    "modellasso_3month_upsampled = make_pipeline(StandardScaler(), LassoCV(max_iter = 10000, selection = \"random\")).fit(x_train_3month_upsampled, y_train_3month_upsampled)\n",
    "y_pred_3month_lasso_upsampled = modellasso_3month_upsampled.predict(np.array(x_test_3month))\n",
    "\n",
    "continuous_evaluation(y_test_3month, y_pred_3month_lasso_upsampled)"
   ]
  },
  {
   "cell_type": "markdown",
   "id": "nasty-wilderness",
   "metadata": {},
   "source": [
    "### 6 month model - regular"
   ]
  },
  {
   "cell_type": "code",
   "execution_count": 19,
   "id": "controlled-watch",
   "metadata": {
    "scrolled": false
   },
   "outputs": [
    {
     "name": "stdout",
     "output_type": "stream",
     "text": [
      "AUC: 0.82\n",
      "ROC Curve: \n"
     ]
    },
    {
     "data": {
      "image/png": "[encoded data removed]",
      "text/plain": [
       "<Figure size 432x288 with 1 Axes>"
      ]
     },
     "metadata": {
      "needs_background": "light"
     },
     "output_type": "display_data"
    },
    {
     "name": "stdout",
     "output_type": "stream",
     "text": [
      "Best Threshold: 0.334\n",
      "F1 Score:  0.6236125126135217\n",
      "All Model Metrics: \n",
      "               precision    recall  f1-score   support\n",
      "\n",
      "         0.0       0.86      0.74      0.80      4971\n",
      "         1.0       0.55      0.73      0.62      2128\n",
      "\n",
      "    accuracy                           0.74      7099\n",
      "   macro avg       0.71      0.73      0.71      7099\n",
      "weighted avg       0.77      0.74      0.75      7099\n",
      "\n",
      "Model Confusion Matrix: \n",
      " [[3689 1282]\n",
      " [ 583 1545]]\n",
      "CPU times: user 2min 12s, sys: 7.93 s, total: 2min 19s\n",
      "Wall time: 1min 41s\n"
     ]
    }
   ],
   "source": [
    "%%time\n",
    "##Linear Regression Model w/ Lasso Regularizer\n",
    "\n",
    "model = make_pipeline(StandardScaler(), LassoCV(max_iter = 10000, normalize = True, selection = \"random\")).fit(x_train_6month, y_train_6month)\n",
    "y_pred_6month_lasso = model.predict(np.array(x_test_6month))\n",
    "\n",
    "continuous_evaluation(y_test_6month, y_pred_6month_lasso)\n"
   ]
  },
  {
   "cell_type": "markdown",
   "id": "neural-notebook",
   "metadata": {},
   "source": [
    "### 6 month model - upsampled"
   ]
  },
  {
   "cell_type": "code",
   "execution_count": 20,
   "id": "intense-lodging",
   "metadata": {},
   "outputs": [
    {
     "name": "stdout",
     "output_type": "stream",
     "text": [
      "AUC: 0.84\n",
      "ROC Curve: \n"
     ]
    },
    {
     "data": {
      "image/png": "[encoded data removed]",
      "text/plain": [
       "<Figure size 432x288 with 1 Axes>"
      ]
     },
     "metadata": {
      "needs_background": "light"
     },
     "output_type": "display_data"
    },
    {
     "name": "stdout",
     "output_type": "stream",
     "text": [
      "Best Threshold: 0.482\n",
      "F1 Score:  0.6510999614048629\n",
      "All Model Metrics: \n",
      "               precision    recall  f1-score   support\n",
      "\n",
      "         0.0       0.89      0.73      0.80      4971\n",
      "         1.0       0.55      0.79      0.65      2128\n",
      "\n",
      "    accuracy                           0.75      7099\n",
      "   macro avg       0.72      0.76      0.73      7099\n",
      "weighted avg       0.79      0.75      0.75      7099\n",
      "\n",
      "Model Confusion Matrix: \n",
      " [[3604 1367]\n",
      " [ 441 1687]]\n",
      "CPU times: user 2min 24s, sys: 9.98 s, total: 2min 34s\n",
      "Wall time: 1min 50s\n"
     ]
    }
   ],
   "source": [
    "%%time\n",
    "##Upsampled Linear Regression Model w/ Lasso regularizer\n",
    "\n",
    "modellasso_6month_upsampled = make_pipeline(StandardScaler(), LassoCV(max_iter = 10000, selection = \"random\")).fit(x_train_6month_upsampled, y_train_6month_upsampled)\n",
    "y_pred_6month_lasso_upsampled = modellasso_6month_upsampled.predict(np.array(x_test_6month))\n",
    "\n",
    "continuous_evaluation(y_test_6month, y_pred_6month_lasso_upsampled)"
   ]
  },
  {
   "cell_type": "markdown",
   "id": "mathematical-amsterdam",
   "metadata": {},
   "source": [
    "### 1 year model - regular"
   ]
  },
  {
   "cell_type": "code",
   "execution_count": 21,
   "id": "descending-science",
   "metadata": {
    "scrolled": false
   },
   "outputs": [
    {
     "name": "stdout",
     "output_type": "stream",
     "text": [
      "AUC: 0.75\n",
      "ROC Curve: \n"
     ]
    },
    {
     "data": {
      "image/png": "[encoded data removed]",
      "text/plain": [
       "<Figure size 432x288 with 1 Axes>"
      ]
     },
     "metadata": {
      "needs_background": "light"
     },
     "output_type": "display_data"
    },
    {
     "name": "stdout",
     "output_type": "stream",
     "text": [
      "Best Threshold: 0.46\n",
      "F1 Score:  0.8318848213501886\n",
      "All Model Metrics: \n",
      "               precision    recall  f1-score   support\n",
      "\n",
      "         0.0       0.74      0.20      0.32      2207\n",
      "         1.0       0.73      0.97      0.83      4892\n",
      "\n",
      "    accuracy                           0.73      7099\n",
      "   macro avg       0.74      0.59      0.57      7099\n",
      "weighted avg       0.73      0.73      0.67      7099\n",
      "\n",
      "Model Confusion Matrix: \n",
      " [[ 446 1761]\n",
      " [ 154 4738]]\n",
      "CPU times: user 3min 18s, sys: 10.5 s, total: 3min 28s\n",
      "Wall time: 2min 56s\n"
     ]
    }
   ],
   "source": [
    "%%time\n",
    "##Linear Regression Model w/ Lasso Regularizer\n",
    "\n",
    "model = make_pipeline(StandardScaler(), LassoCV(max_iter = 10000, normalize = True, selection = \"random\")).fit(x_train_1year, y_train_1year)\n",
    "y_pred_1year_lasso = model.predict(np.array(x_test_1year))\n",
    "\n",
    "continuous_evaluation(y_test_1year, y_pred_1year_lasso)\n"
   ]
  },
  {
   "cell_type": "markdown",
   "id": "suspected-cemetery",
   "metadata": {},
   "source": [
    "### 1 year model - upsampled"
   ]
  },
  {
   "cell_type": "code",
   "execution_count": 22,
   "id": "behind-george",
   "metadata": {},
   "outputs": [
    {
     "name": "stdout",
     "output_type": "stream",
     "text": [
      "AUC: 0.77\n",
      "ROC Curve: \n"
     ]
    },
    {
     "data": {
      "image/png": "[encoded data removed]",
      "text/plain": [
       "<Figure size 432x288 with 1 Axes>"
      ]
     },
     "metadata": {
      "needs_background": "light"
     },
     "output_type": "display_data"
    },
    {
     "name": "stdout",
     "output_type": "stream",
     "text": [
      "Best Threshold: 0.312\n",
      "F1 Score:  0.8368359339767296\n",
      "All Model Metrics: \n",
      "               precision    recall  f1-score   support\n",
      "\n",
      "         0.0       0.72      0.29      0.42      2207\n",
      "         1.0       0.75      0.95      0.84      4892\n",
      "\n",
      "    accuracy                           0.75      7099\n",
      "   macro avg       0.73      0.62      0.63      7099\n",
      "weighted avg       0.74      0.75      0.71      7099\n",
      "\n",
      "Model Confusion Matrix: \n",
      " [[ 651 1556]\n",
      " [ 253 4639]]\n",
      "CPU times: user 3min 9s, sys: 11.6 s, total: 3min 20s\n",
      "Wall time: 2min 41s\n"
     ]
    }
   ],
   "source": [
    "%%time\n",
    "##Upsampled Linear Regression Model w/ Lasso regularizer\n",
    "\n",
    "modellasso_1year_upsampled = make_pipeline(StandardScaler(), LassoCV(max_iter = 100000, random_state=6)).fit(x_train_1year_upsampled, y_train_1year_upsampled)\n",
    "y_pred_1year_lasso_upsampled = modellasso_1year_upsampled.predict(np.array(x_test_1year))\n",
    "\n",
    "continuous_evaluation(y_test_1year, y_pred_1year_lasso_upsampled)"
   ]
  }
 ],
 "metadata": {
  "kernelspec": {
   "display_name": "Python 3",
   "language": "python",
   "name": "python3"
  },
  "language_info": {
   "codemirror_mode": {
    "name": "ipython",
    "version": 3
   },
   "file_extension": ".py",
   "mimetype": "text/x-python",
   "name": "python",
   "nbconvert_exporter": "python",
   "pygments_lexer": "ipython3",
   "version": "3.9.2"
  }
 },
 "nbformat": 4,
 "nbformat_minor": 5
}
